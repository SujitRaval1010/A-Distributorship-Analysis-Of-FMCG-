{
 "cells": [
  {
   "cell_type": "code",
   "execution_count": 29,
   "id": "97a0ab13",
   "metadata": {},
   "outputs": [],
   "source": [
    "import pandas as pd \n",
    "import numpy as np \n",
    "import seaborn as sns \n",
    "import matplotlib.pyplot as plt\n",
    "from scipy.stats import shapiro\n",
    "from scipy.stats import spearmanr"
   ]
  },
  {
   "cell_type": "code",
   "execution_count": 57,
   "id": "fee5a2ea",
   "metadata": {},
   "outputs": [],
   "source": [
    "df = pd.read_excel(\"C:\\\\Users\\\\Vandit\\\\Desktop\\\\Book2.xlsx\")"
   ]
  },
  {
   "cell_type": "code",
   "execution_count": 58,
   "id": "d09316ad",
   "metadata": {},
   "outputs": [
    {
     "data": {
      "text/html": [
       "<div>\n",
       "<style scoped>\n",
       "    .dataframe tbody tr th:only-of-type {\n",
       "        vertical-align: middle;\n",
       "    }\n",
       "\n",
       "    .dataframe tbody tr th {\n",
       "        vertical-align: top;\n",
       "    }\n",
       "\n",
       "    .dataframe thead th {\n",
       "        text-align: right;\n",
       "    }\n",
       "</style>\n",
       "<table border=\"1\" class=\"dataframe\">\n",
       "  <thead>\n",
       "    <tr style=\"text-align: right;\">\n",
       "      <th></th>\n",
       "      <th>Sales</th>\n",
       "      <th>Temperature</th>\n",
       "      <th>Rainfall</th>\n",
       "    </tr>\n",
       "  </thead>\n",
       "  <tbody>\n",
       "    <tr>\n",
       "      <th>0</th>\n",
       "      <td>2865</td>\n",
       "      <td>29.773226</td>\n",
       "      <td>8.700000</td>\n",
       "    </tr>\n",
       "    <tr>\n",
       "      <th>1</th>\n",
       "      <td>1985</td>\n",
       "      <td>27.210968</td>\n",
       "      <td>15.937742</td>\n",
       "    </tr>\n",
       "    <tr>\n",
       "      <th>2</th>\n",
       "      <td>72850</td>\n",
       "      <td>27.266000</td>\n",
       "      <td>10.712000</td>\n",
       "    </tr>\n",
       "    <tr>\n",
       "      <th>3</th>\n",
       "      <td>83990</td>\n",
       "      <td>25.635806</td>\n",
       "      <td>1.255806</td>\n",
       "    </tr>\n",
       "    <tr>\n",
       "      <th>4</th>\n",
       "      <td>95345</td>\n",
       "      <td>23.578333</td>\n",
       "      <td>0.278333</td>\n",
       "    </tr>\n",
       "  </tbody>\n",
       "</table>\n",
       "</div>"
      ],
      "text/plain": [
       "   Sales  Temperature   Rainfall\n",
       "0   2865    29.773226   8.700000\n",
       "1   1985    27.210968  15.937742\n",
       "2  72850    27.266000  10.712000\n",
       "3  83990    25.635806   1.255806\n",
       "4  95345    23.578333   0.278333"
      ]
     },
     "execution_count": 58,
     "metadata": {},
     "output_type": "execute_result"
    }
   ],
   "source": [
    "df.head()"
   ]
  },
  {
   "cell_type": "code",
   "execution_count": 59,
   "id": "8df39247",
   "metadata": {},
   "outputs": [
    {
     "data": {
      "text/plain": [
       "(30, 3)"
      ]
     },
     "execution_count": 59,
     "metadata": {},
     "output_type": "execute_result"
    }
   ],
   "source": [
    "df.shape"
   ]
  },
  {
   "cell_type": "code",
   "execution_count": 60,
   "id": "9e7eaee2",
   "metadata": {},
   "outputs": [
    {
     "data": {
      "text/html": [
       "<div>\n",
       "<style scoped>\n",
       "    .dataframe tbody tr th:only-of-type {\n",
       "        vertical-align: middle;\n",
       "    }\n",
       "\n",
       "    .dataframe tbody tr th {\n",
       "        vertical-align: top;\n",
       "    }\n",
       "\n",
       "    .dataframe thead th {\n",
       "        text-align: right;\n",
       "    }\n",
       "</style>\n",
       "<table border=\"1\" class=\"dataframe\">\n",
       "  <thead>\n",
       "    <tr style=\"text-align: right;\">\n",
       "      <th></th>\n",
       "      <th>Sales</th>\n",
       "      <th>Temperature</th>\n",
       "      <th>Rainfall</th>\n",
       "    </tr>\n",
       "  </thead>\n",
       "  <tbody>\n",
       "    <tr>\n",
       "      <th>count</th>\n",
       "      <td>30.000000</td>\n",
       "      <td>30.000000</td>\n",
       "      <td>30.000000</td>\n",
       "    </tr>\n",
       "    <tr>\n",
       "      <th>mean</th>\n",
       "      <td>239092.666667</td>\n",
       "      <td>26.727659</td>\n",
       "      <td>3.452647</td>\n",
       "    </tr>\n",
       "    <tr>\n",
       "      <th>std</th>\n",
       "      <td>157614.700193</td>\n",
       "      <td>4.614922</td>\n",
       "      <td>5.181940</td>\n",
       "    </tr>\n",
       "    <tr>\n",
       "      <th>min</th>\n",
       "      <td>1985.000000</td>\n",
       "      <td>18.046452</td>\n",
       "      <td>0.000000</td>\n",
       "    </tr>\n",
       "    <tr>\n",
       "      <th>25%</th>\n",
       "      <td>151085.000000</td>\n",
       "      <td>22.962333</td>\n",
       "      <td>0.002368</td>\n",
       "    </tr>\n",
       "    <tr>\n",
       "      <th>50%</th>\n",
       "      <td>215170.000000</td>\n",
       "      <td>27.238484</td>\n",
       "      <td>0.482258</td>\n",
       "    </tr>\n",
       "    <tr>\n",
       "      <th>75%</th>\n",
       "      <td>362507.500000</td>\n",
       "      <td>29.629677</td>\n",
       "      <td>5.243129</td>\n",
       "    </tr>\n",
       "    <tr>\n",
       "      <th>max</th>\n",
       "      <td>623740.000000</td>\n",
       "      <td>35.904516</td>\n",
       "      <td>18.999677</td>\n",
       "    </tr>\n",
       "  </tbody>\n",
       "</table>\n",
       "</div>"
      ],
      "text/plain": [
       "               Sales  Temperature   Rainfall\n",
       "count      30.000000    30.000000  30.000000\n",
       "mean   239092.666667    26.727659   3.452647\n",
       "std    157614.700193     4.614922   5.181940\n",
       "min      1985.000000    18.046452   0.000000\n",
       "25%    151085.000000    22.962333   0.002368\n",
       "50%    215170.000000    27.238484   0.482258\n",
       "75%    362507.500000    29.629677   5.243129\n",
       "max    623740.000000    35.904516  18.999677"
      ]
     },
     "execution_count": 60,
     "metadata": {},
     "output_type": "execute_result"
    }
   ],
   "source": [
    "df.describe()"
   ]
  },
  {
   "cell_type": "code",
   "execution_count": 62,
   "id": "63dcb325",
   "metadata": {},
   "outputs": [
    {
     "data": {
      "text/html": [
       "<div>\n",
       "<style scoped>\n",
       "    .dataframe tbody tr th:only-of-type {\n",
       "        vertical-align: middle;\n",
       "    }\n",
       "\n",
       "    .dataframe tbody tr th {\n",
       "        vertical-align: top;\n",
       "    }\n",
       "\n",
       "    .dataframe thead th {\n",
       "        text-align: right;\n",
       "    }\n",
       "</style>\n",
       "<table border=\"1\" class=\"dataframe\">\n",
       "  <thead>\n",
       "    <tr style=\"text-align: right;\">\n",
       "      <th></th>\n",
       "      <th>Sales</th>\n",
       "      <th>Temperature</th>\n",
       "      <th>Rainfall</th>\n",
       "    </tr>\n",
       "  </thead>\n",
       "  <tbody>\n",
       "    <tr>\n",
       "      <th>Sales</th>\n",
       "      <td>1.000000</td>\n",
       "      <td>0.109677</td>\n",
       "      <td>0.055165</td>\n",
       "    </tr>\n",
       "    <tr>\n",
       "      <th>Temperature</th>\n",
       "      <td>0.109677</td>\n",
       "      <td>1.000000</td>\n",
       "      <td>0.358015</td>\n",
       "    </tr>\n",
       "    <tr>\n",
       "      <th>Rainfall</th>\n",
       "      <td>0.055165</td>\n",
       "      <td>0.358015</td>\n",
       "      <td>1.000000</td>\n",
       "    </tr>\n",
       "  </tbody>\n",
       "</table>\n",
       "</div>"
      ],
      "text/plain": [
       "                Sales  Temperature  Rainfall\n",
       "Sales        1.000000     0.109677  0.055165\n",
       "Temperature  0.109677     1.000000  0.358015\n",
       "Rainfall     0.055165     0.358015  1.000000"
      ]
     },
     "execution_count": 62,
     "metadata": {},
     "output_type": "execute_result"
    }
   ],
   "source": [
    "correlation=df.corr(method='spearman')\n",
    "correlation"
   ]
  },
  {
   "cell_type": "code",
   "execution_count": 63,
   "id": "6fff3d22",
   "metadata": {},
   "outputs": [
    {
     "data": {
      "text/html": [
       "<div>\n",
       "<style scoped>\n",
       "    .dataframe tbody tr th:only-of-type {\n",
       "        vertical-align: middle;\n",
       "    }\n",
       "\n",
       "    .dataframe tbody tr th {\n",
       "        vertical-align: top;\n",
       "    }\n",
       "\n",
       "    .dataframe thead th {\n",
       "        text-align: right;\n",
       "    }\n",
       "</style>\n",
       "<table border=\"1\" class=\"dataframe\">\n",
       "  <thead>\n",
       "    <tr style=\"text-align: right;\">\n",
       "      <th></th>\n",
       "      <th>Sales</th>\n",
       "      <th>Temperature</th>\n",
       "      <th>Rainfall</th>\n",
       "    </tr>\n",
       "  </thead>\n",
       "  <tbody>\n",
       "    <tr>\n",
       "      <th>Sales</th>\n",
       "      <td>1.000000</td>\n",
       "      <td>0.092753</td>\n",
       "      <td>-0.048089</td>\n",
       "    </tr>\n",
       "    <tr>\n",
       "      <th>Temperature</th>\n",
       "      <td>0.092753</td>\n",
       "      <td>1.000000</td>\n",
       "      <td>0.259147</td>\n",
       "    </tr>\n",
       "    <tr>\n",
       "      <th>Rainfall</th>\n",
       "      <td>-0.048089</td>\n",
       "      <td>0.259147</td>\n",
       "      <td>1.000000</td>\n",
       "    </tr>\n",
       "  </tbody>\n",
       "</table>\n",
       "</div>"
      ],
      "text/plain": [
       "                Sales  Temperature  Rainfall\n",
       "Sales        1.000000     0.092753 -0.048089\n",
       "Temperature  0.092753     1.000000  0.259147\n",
       "Rainfall    -0.048089     0.259147  1.000000"
      ]
     },
     "execution_count": 63,
     "metadata": {},
     "output_type": "execute_result"
    }
   ],
   "source": [
    "df.corr()"
   ]
  },
  {
   "cell_type": "code",
   "execution_count": 64,
   "id": "4462abeb",
   "metadata": {},
   "outputs": [
    {
     "data": {
      "text/plain": [
       "<function matplotlib.pyplot.show(close=None, block=None)>"
      ]
     },
     "execution_count": 64,
     "metadata": {},
     "output_type": "execute_result"
    },
    {
     "data": {
      "image/png": "[encoded data removed]",
      "text/plain": [
       "<Figure size 432x288 with 2 Axes>"
      ]
     },
     "metadata": {
      "needs_background": "light"
     },
     "output_type": "display_data"
    }
   ],
   "source": [
    "sns.heatmap(correlation)\n",
    "plt.show"
   ]
  },
  {
   "cell_type": "code",
   "execution_count": 65,
   "id": "a7a126dc",
   "metadata": {},
   "outputs": [
    {
     "data": {
      "text/html": [
       "<div>\n",
       "<style scoped>\n",
       "    .dataframe tbody tr th:only-of-type {\n",
       "        vertical-align: middle;\n",
       "    }\n",
       "\n",
       "    .dataframe tbody tr th {\n",
       "        vertical-align: top;\n",
       "    }\n",
       "\n",
       "    .dataframe thead th {\n",
       "        text-align: right;\n",
       "    }\n",
       "</style>\n",
       "<table border=\"1\" class=\"dataframe\">\n",
       "  <thead>\n",
       "    <tr style=\"text-align: right;\">\n",
       "      <th></th>\n",
       "      <th>Sales</th>\n",
       "      <th>Temperature</th>\n",
       "      <th>Rainfall</th>\n",
       "    </tr>\n",
       "  </thead>\n",
       "  <tbody>\n",
       "    <tr>\n",
       "      <th>27</th>\n",
       "      <td>623740</td>\n",
       "      <td>25.798065</td>\n",
       "      <td>0.988065</td>\n",
       "    </tr>\n",
       "    <tr>\n",
       "      <th>26</th>\n",
       "      <td>535495</td>\n",
       "      <td>27.713333</td>\n",
       "      <td>12.543000</td>\n",
       "    </tr>\n",
       "    <tr>\n",
       "      <th>25</th>\n",
       "      <td>427160</td>\n",
       "      <td>28.886129</td>\n",
       "      <td>2.476774</td>\n",
       "    </tr>\n",
       "    <tr>\n",
       "      <th>24</th>\n",
       "      <td>407635</td>\n",
       "      <td>29.314194</td>\n",
       "      <td>4.184516</td>\n",
       "    </tr>\n",
       "    <tr>\n",
       "      <th>19</th>\n",
       "      <td>402825</td>\n",
       "      <td>24.313571</td>\n",
       "      <td>0.000000</td>\n",
       "    </tr>\n",
       "    <tr>\n",
       "      <th>15</th>\n",
       "      <td>396175</td>\n",
       "      <td>26.256774</td>\n",
       "      <td>0.461935</td>\n",
       "    </tr>\n",
       "    <tr>\n",
       "      <th>12</th>\n",
       "      <td>374435</td>\n",
       "      <td>29.376129</td>\n",
       "      <td>5.913226</td>\n",
       "    </tr>\n",
       "    <tr>\n",
       "      <th>17</th>\n",
       "      <td>370785</td>\n",
       "      <td>20.919355</td>\n",
       "      <td>0.344516</td>\n",
       "    </tr>\n",
       "    <tr>\n",
       "      <th>23</th>\n",
       "      <td>337675</td>\n",
       "      <td>30.994333</td>\n",
       "      <td>7.451000</td>\n",
       "    </tr>\n",
       "    <tr>\n",
       "      <th>14</th>\n",
       "      <td>310870</td>\n",
       "      <td>27.830000</td>\n",
       "      <td>4.119000</td>\n",
       "    </tr>\n",
       "  </tbody>\n",
       "</table>\n",
       "</div>"
      ],
      "text/plain": [
       "     Sales  Temperature   Rainfall\n",
       "27  623740    25.798065   0.988065\n",
       "26  535495    27.713333  12.543000\n",
       "25  427160    28.886129   2.476774\n",
       "24  407635    29.314194   4.184516\n",
       "19  402825    24.313571   0.000000\n",
       "15  396175    26.256774   0.461935\n",
       "12  374435    29.376129   5.913226\n",
       "17  370785    20.919355   0.344516\n",
       "23  337675    30.994333   7.451000\n",
       "14  310870    27.830000   4.119000"
      ]
     },
     "execution_count": 65,
     "metadata": {},
     "output_type": "execute_result"
    }
   ],
   "source": [
    "df[['Sales','Temperature','Rainfall']].nlargest(10,'Sales')"
   ]
  },
  {
   "cell_type": "code",
   "execution_count": 72,
   "id": "5ba41bea",
   "metadata": {},
   "outputs": [],
   "source": [
    "## Normality check "
   ]
  },
  {
   "cell_type": "code",
   "execution_count": 66,
   "id": "ee818217",
   "metadata": {},
   "outputs": [
    {
     "name": "stdout",
     "output_type": "stream",
     "text": [
      "Sales,statistics=0.96568,.p=0.42866\n"
     ]
    }
   ],
   "source": [
    "stat,p = shapiro(df['Sales'])\n",
    "print('Sales,statistics=%.5f,.p=%.5f'%(stat,p))"
   ]
  },
  {
   "cell_type": "code",
   "execution_count": 70,
   "id": "0885b4c0",
   "metadata": {},
   "outputs": [
    {
     "name": "stdout",
     "output_type": "stream",
     "text": [
      "Temperature,statistics=0.98069,.p=0.84347\n"
     ]
    }
   ],
   "source": [
    "stat,p = shapiro(df['Temperature'])\n",
    "print('Temperature,statistics=%.5f,.p=%.5f'%(stat,p))"
   ]
  },
  {
   "cell_type": "code",
   "execution_count": 71,
   "id": "b6eb5bfb",
   "metadata": {},
   "outputs": [
    {
     "name": "stdout",
     "output_type": "stream",
     "text": [
      "Rainfall,statistics=0.72279,.p=0.00000\n"
     ]
    }
   ],
   "source": [
    "stat,p = shapiro(df['Rainfall'])\n",
    "print('Rainfall,statistics=%.5f,.p=%.5f'%(stat,p))"
   ]
  },
  {
   "cell_type": "markdown",
   "id": "071d2a73",
   "metadata": {},
   "source": []
  },
  {
   "cell_type": "code",
   "execution_count": null,
   "id": "479ed396",
   "metadata": {},
   "outputs": [],
   "source": []
  },
  {
   "cell_type": "code",
   "execution_count": null,
   "id": "a002894a",
   "metadata": {},
   "outputs": [],
   "source": []
  }
 ],
 "metadata": {
  "kernelspec": {
   "display_name": "Python 3",
   "language": "python",
   "name": "python3"
  },
  "language_info": {
   "codemirror_mode": {
    "name": "ipython",
    "version": 3
   },
   "file_extension": ".py",
   "mimetype": "text/x-python",
   "name": "python",
   "nbconvert_exporter": "python",
   "pygments_lexer": "ipython3",
   "version": "3.8.8"
  }
 },
 "nbformat": 4,
 "nbformat_minor": 5
}
